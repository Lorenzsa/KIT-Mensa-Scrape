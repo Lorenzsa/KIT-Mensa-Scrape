{
 "cells": [
  {
   "cell_type": "markdown",
   "metadata": {},
   "source": [
    "# Scrape KIT Mensa Website\n",
    "This tool allows you to scrape data about your mensa activity at the Karlsruher Institute of Technology, sets up a dataframe and saves everything as a .scv <br>\n",
    "\n",
    "What you'll need:\n",
    "- AUTOLOAD has to be activated at the studierendenservice and the login data obtained!\n",
    "- save the login data in the login.txt in same directory or rewrite the corresponding comment\n",
    "- install and save chromedriver in the same directory\n",
    "\n",
    "What you should know:\n",
    "I have no clue how to properly code, as mechatronics student I just wanted to learn how to scrape a website. This is the outcome. "
   ]
  },
  {
   "cell_type": "markdown",
   "metadata": {},
   "source": [
    "### Import requests:"
   ]
  },
  {
   "cell_type": "code",
   "execution_count": 37,
   "metadata": {},
   "outputs": [],
   "source": [
    "\n",
    "import pandas as pd\n",
    "from selenium import webdriver\n",
    "from selenium.webdriver.common.by import By\n",
    "from selenium.webdriver.support.ui import WebDriverWait\n",
    "from selenium.webdriver.support import expected_conditions as EC\n",
    "from bs4 import BeautifulSoup\n",
    "import os\n",
    "import datetime"
   ]
  },
  {
   "cell_type": "markdown",
   "metadata": {},
   "source": [
    "### Login:\n",
    "Open login page:"
   ]
  },
  {
   "cell_type": "code",
   "execution_count": 38,
   "metadata": {},
   "outputs": [
    {
     "name": "stderr",
     "output_type": "stream",
     "text": [
      "C:\\Users\\loren\\AppData\\Local\\Temp/ipykernel_14316/2703279490.py:3: DeprecationWarning: executable_path has been deprecated, please pass in a Service object\n",
      "  driver = webdriver.Chrome(executable_path=DRIVER_PATH)\n"
     ]
    }
   ],
   "source": [
    "cwd = os.getcwd()\n",
    "DRIVER_PATH = cwd+'\\chromedriver'\n",
    "driver = webdriver.Chrome(executable_path=DRIVER_PATH)\n",
    "#ignore warning or fix the code: https://stackoverflow.com/questions/64717302/deprecationwarning-executable-path-has-been-deprecated-selenium-python\n",
    "login_url = \"https://autoload.sw-ka.de/KartenService/index.html#home\"\n",
    "url = \"https://autoload.sw-ka.de/KartenService/index.html#trans\"\n",
    "driver.get(login_url)"
   ]
  },
  {
   "cell_type": "markdown",
   "metadata": {},
   "source": [
    "Login data from textfile:"
   ]
  },
  {
   "cell_type": "code",
   "execution_count": 39,
   "metadata": {},
   "outputs": [],
   "source": [
    "with open('login.txt', 'r') as f:\n",
    "    text = f.read()\n",
    "    f.close()\n",
    "head, sep, tail = text.partition(\"login_pw = '\")\n",
    "login_num = int(head.replace(\"login_num = \",\" \"))\n",
    "login_pw = str(tail)\n",
    "login_pw = login_pw[:-1]\n",
    "#uncomment for use without login.txt   \n",
    "#login_num = 123456\n",
    "#login_pw = 'abcdefghij'\n"
   ]
  },
  {
   "cell_type": "markdown",
   "metadata": {},
   "source": [
    "Actual login:"
   ]
  },
  {
   "cell_type": "code",
   "execution_count": 40,
   "metadata": {},
   "outputs": [
    {
     "data": {
      "text/plain": [
       "True"
      ]
     },
     "execution_count": 40,
     "metadata": {},
     "output_type": "execute_result"
    }
   ],
   "source": [
    "WebDriverWait(driver, 15).until(EC.element_to_be_clickable((By.XPATH, \".//*[@type='submit']\")))\n",
    "password_input = driver.find_element(By.XPATH, \"//input[@type='password']\")\n",
    "password_input.send_keys(login_pw)\n",
    "username_input = password_input.find_element(By.XPATH, \".//preceding::input[not(@type='hidden')]\")\n",
    "username_input.send_keys(login_num)\n",
    "form_element = password_input.find_element(By.XPATH, \".//ancestor::form\")\n",
    "submit_button = form_element.find_element(By.XPATH, \".//*[@type='submit']\").click()\n",
    "WebDriverWait(driver, timeout=10).until(lambda driver: driver.current_url == \"https://autoload.sw-ka.de/KartenService/index.html#info\")"
   ]
  },
  {
   "cell_type": "markdown",
   "metadata": {},
   "source": [
    "Switch to transactions page:"
   ]
  },
  {
   "cell_type": "code",
   "execution_count": 41,
   "metadata": {},
   "outputs": [],
   "source": [
    "\n",
    "driver.get(url)\n",
    "driver.implicitly_wait(1)\n",
    "#start date (use min):\n",
    "transactionDateMin = driver.find_element(By.XPATH,'//*[@id=\"id_32_gen\"]').get_attribute(\"min\")\n",
    "transactionDateMin = datetime.datetime.strptime(transactionDateMin, '%Y-%m-%d').strftime('%d/%m/%Y')\n",
    "#transactionDateMin = '25/04/2022'   #overwrite to specify a desired date\n",
    "start_date = driver.find_element(By.XPATH,'//*[@id=\"id_32_gen\"]').send_keys(transactionDateMin)\n",
    "#end date (use max):\n",
    "transactionDateMax = driver.find_element(By.XPATH,'//*[@id=\"id_32_gen\"]').get_attribute(\"max\")\n",
    "transactionDateMax = datetime.datetime.strptime(transactionDateMax, '%Y-%m-%d').strftime('%d/%m/%Y')\n",
    "end_date = driver.find_element(By.XPATH,'//*[@id=\"id_34_gen\"]').send_keys(transactionDateMax)\n",
    "submit_button = driver.find_element(By.XPATH, '//*[@id=\"transactionFormSubmit\"]').click()"
   ]
  },
  {
   "cell_type": "markdown",
   "metadata": {},
   "source": [
    "### Harvest data:"
   ]
  },
  {
   "cell_type": "markdown",
   "metadata": {},
   "source": [
    "not the most elegant solution probably but I was confused on how to import nested tables from html.. <br>\n",
    "Shows how many transactions are available:"
   ]
  },
  {
   "cell_type": "code",
   "execution_count": 42,
   "metadata": {},
   "outputs": [
    {
     "name": "stdout",
     "output_type": "stream",
     "text": [
      "Transactions found: 167\n"
     ]
    }
   ],
   "source": [
    "#setup dataframe\n",
    "WebDriverWait(driver, 10).until(EC.element_to_be_clickable((By.XPATH, '//*[@id=\"transactionTable\"]/tbody[1]/tr[1]/td[1]/button')))\n",
    "tbl = driver.find_element(By.XPATH, '//*[@id=\"transactionTable\"]').get_attribute('innerHTML')\n",
    "table_list = pd.read_html(tbl)\n",
    "n_transactions = len(table_list)\n",
    "print('Transactions found:', n_transactions)\n",
    "header_text = driver.find_element(By.XPATH,'/html/body/div[4]/form/div[1]/div[2]/table/thead').get_attribute('outerText')\n",
    "header_0 = list(' '.join(BeautifulSoup(header_text, \"html.parser\").stripped_strings).split(\"\\t\"))\n",
    "header_1 = list(table_list[0].columns.values)\n",
    "header_1.remove('Unnamed: 0')\n",
    "header = [header_0[0]]+header_1+header_0[1:len(header_0)]\n",
    "df = pd.DataFrame(columns=header,index=range(len(table_list)))"
   ]
  },
  {
   "cell_type": "markdown",
   "metadata": {},
   "source": [
    "Format dataframe:<br>\n",
    "The html page has nested tables for the transactions. <br> In the df each transaction has an index, while each item in one transaction (cart) gets the same index, timestamp, ..."
   ]
  },
  {
   "cell_type": "code",
   "execution_count": 43,
   "metadata": {},
   "outputs": [],
   "source": [
    "transaction=[]\n",
    "transaction_text=[]\n",
    "for i in range(1,len(table_list)+1):\n",
    "    transaction.append(driver.find_element(By.XPATH, '/html/body/div[4]/form/div[1]/div[2]/table/tbody['+str(i)+']/tr[1]').get_attribute('outerText'))\n",
    "    transaction_text.append(list(transaction[i-1].split(\"\\t\")))\n",
    "df_transaction_text = pd.DataFrame(transaction_text)\n",
    "df_transaction_text = df_transaction_text.replace(r'\\n',' ', regex=True) \n",
    "df['Datum'] = df_transaction_text[1]\n",
    "df['Ort'] = df_transaction_text[2]\n",
    "df['Kasse'] = df_transaction_text[3]\n",
    "df['Typ'] = df_transaction_text[4]\n",
    "df['Bon-Nr.'] = df_transaction_text[5]\n",
    "df['Bonus'] = df_transaction_text[6]\n",
    "df['Betrag'] = df_transaction_text[7]\n",
    "df['PDF'] = df_transaction_text[8]\n",
    "\n",
    "#dict of df (carts) for each transaction\n",
    "cart_dic = dict()\n",
    "for i in range(1,n_transactions+1):    \n",
    "    cart_text_list = pd.read_html(driver.find_element(By.XPATH, '/html/body/div[4]/form/div[1]/div[2]/table/tbody['+str(i)+']/tr[2]/td[2]/table').get_attribute('outerHTML'))\n",
    "    cart_text = cart_text_list[0]\n",
    "    cart_text = cart_text.drop('Unnamed: 0',axis=1)\n",
    "    #cart_text = cart_text.replace(r'\\n',' ', regex=True) #no need\n",
    "    cart_dic[i] = cart_text\n",
    "cart_df = pd.concat(cart_dic, axis=0)\n",
    "\n",
    "#logout of website\n",
    "logout_button = driver.find_element(By.XPATH, '/html/body/div[4]/div[1]/a[2]').click()\n",
    "driver.close()\n",
    "\n",
    "#repeat transaction to match cart length, insert cart df in df\n",
    "repeat_list = []\n",
    "for i in range(1,n_transactions+1):\n",
    "        repeat_list.append(len(cart_dic[i]))\n",
    "df = df.loc[df.index.repeat(repeat_list)]\n",
    "cart_df = pd.concat(cart_dic, axis=0)\n",
    "cart_df.reset_index(inplace=True)\n",
    "df.reset_index(inplace=True)\n",
    "df[['Artikel', 'Menge', 'Preis', 'Rabatt', 'Gesamt']] = cart_df[['Artikel', 'Menge', 'Preis', 'Rabatt', 'Gesamt']]"
   ]
  },
  {
   "cell_type": "markdown",
   "metadata": {},
   "source": [
    "### Save data to .csv"
   ]
  },
  {
   "cell_type": "code",
   "execution_count": 44,
   "metadata": {},
   "outputs": [],
   "source": [
    "df.to_csv('mensascrape.csv', encoding='utf-8')"
   ]
  },
  {
   "cell_type": "markdown",
   "metadata": {},
   "source": [
    "### take a look"
   ]
  },
  {
   "cell_type": "code",
   "execution_count": 45,
   "metadata": {},
   "outputs": [
    {
     "data": {
      "text/html": [
       "<div>\n",
       "<style scoped>\n",
       "    .dataframe tbody tr th:only-of-type {\n",
       "        vertical-align: middle;\n",
       "    }\n",
       "\n",
       "    .dataframe tbody tr th {\n",
       "        vertical-align: top;\n",
       "    }\n",
       "\n",
       "    .dataframe thead th {\n",
       "        text-align: right;\n",
       "    }\n",
       "</style>\n",
       "<table border=\"1\" class=\"dataframe\">\n",
       "  <thead>\n",
       "    <tr style=\"text-align: right;\">\n",
       "      <th></th>\n",
       "      <th>index</th>\n",
       "      <th>Datum</th>\n",
       "      <th>Artikel</th>\n",
       "      <th>Menge</th>\n",
       "      <th>Preis</th>\n",
       "      <th>Rabatt</th>\n",
       "      <th>Gesamt</th>\n",
       "      <th>Ort</th>\n",
       "      <th>Kasse</th>\n",
       "      <th>Typ</th>\n",
       "      <th>Bon-Nr.</th>\n",
       "      <th>Bonus</th>\n",
       "      <th>Betrag</th>\n",
       "      <th>PDF</th>\n",
       "    </tr>\n",
       "  </thead>\n",
       "  <tbody>\n",
       "    <tr>\n",
       "      <th>0</th>\n",
       "      <td>0</td>\n",
       "      <td>30.05.2022 14:06</td>\n",
       "      <td>Club Mate</td>\n",
       "      <td>1</td>\n",
       "      <td>1.20 €</td>\n",
       "      <td>NaN</td>\n",
       "      <td>1.20 €</td>\n",
       "      <td>Küche Mensa Am Adenauer</td>\n",
       "      <td>61012 Cafeteria Theke</td>\n",
       "      <td>Verkauf</td>\n",
       "      <td>61012-3903-808</td>\n",
       "      <td></td>\n",
       "      <td>-1.35 €</td>\n",
       "      <td>PDF anzeigen</td>\n",
       "    </tr>\n",
       "    <tr>\n",
       "      <th>1</th>\n",
       "      <td>0</td>\n",
       "      <td>30.05.2022 14:06</td>\n",
       "      <td>Pfand + 0,15 €</td>\n",
       "      <td>1</td>\n",
       "      <td>0.15 €</td>\n",
       "      <td>NaN</td>\n",
       "      <td>0.15 €</td>\n",
       "      <td>Küche Mensa Am Adenauer</td>\n",
       "      <td>61012 Cafeteria Theke</td>\n",
       "      <td>Verkauf</td>\n",
       "      <td>61012-3903-808</td>\n",
       "      <td></td>\n",
       "      <td>-1.35 €</td>\n",
       "      <td>PDF anzeigen</td>\n",
       "    </tr>\n",
       "    <tr>\n",
       "      <th>2</th>\n",
       "      <td>1</td>\n",
       "      <td>30.05.2022 13:07</td>\n",
       "      <td>Kalbscurrywurst mild Mensa</td>\n",
       "      <td>1</td>\n",
       "      <td>2.00 €</td>\n",
       "      <td>NaN</td>\n",
       "      <td>2.00 €</td>\n",
       "      <td>Koeriwerk A7</td>\n",
       "      <td>61014 [koeri]werk</td>\n",
       "      <td>Verkauf</td>\n",
       "      <td>61014-3508-602</td>\n",
       "      <td></td>\n",
       "      <td>-4.94 €</td>\n",
       "      <td>PDF anzeigen</td>\n",
       "    </tr>\n",
       "    <tr>\n",
       "      <th>3</th>\n",
       "      <td>1</td>\n",
       "      <td>30.05.2022 13:07</td>\n",
       "      <td>Pommes Frites Mensa</td>\n",
       "      <td>1</td>\n",
       "      <td>1.30 €</td>\n",
       "      <td>NaN</td>\n",
       "      <td>1.30 €</td>\n",
       "      <td>Koeriwerk A7</td>\n",
       "      <td>61014 [koeri]werk</td>\n",
       "      <td>Verkauf</td>\n",
       "      <td>61014-3508-602</td>\n",
       "      <td></td>\n",
       "      <td>-4.94 €</td>\n",
       "      <td>PDF anzeigen</td>\n",
       "    </tr>\n",
       "    <tr>\n",
       "      <th>4</th>\n",
       "      <td>1</td>\n",
       "      <td>30.05.2022 13:07</td>\n",
       "      <td>Schale 130g</td>\n",
       "      <td>1</td>\n",
       "      <td>1.64 €</td>\n",
       "      <td>NaN</td>\n",
       "      <td>1.64 €</td>\n",
       "      <td>Koeriwerk A7</td>\n",
       "      <td>61014 [koeri]werk</td>\n",
       "      <td>Verkauf</td>\n",
       "      <td>61014-3508-602</td>\n",
       "      <td></td>\n",
       "      <td>-4.94 €</td>\n",
       "      <td>PDF anzeigen</td>\n",
       "    </tr>\n",
       "  </tbody>\n",
       "</table>\n",
       "</div>"
      ],
      "text/plain": [
       "   index             Datum                     Artikel  Menge   Preis  Rabatt  \\\n",
       "0      0  30.05.2022 14:06                   Club Mate      1  1.20 €     NaN   \n",
       "1      0  30.05.2022 14:06              Pfand + 0,15 €      1  0.15 €     NaN   \n",
       "2      1  30.05.2022 13:07  Kalbscurrywurst mild Mensa      1  2.00 €     NaN   \n",
       "3      1  30.05.2022 13:07         Pommes Frites Mensa      1  1.30 €     NaN   \n",
       "4      1  30.05.2022 13:07                 Schale 130g      1  1.64 €     NaN   \n",
       "\n",
       "   Gesamt                      Ort                  Kasse      Typ  \\\n",
       "0  1.20 €  Küche Mensa Am Adenauer  61012 Cafeteria Theke  Verkauf   \n",
       "1  0.15 €  Küche Mensa Am Adenauer  61012 Cafeteria Theke  Verkauf   \n",
       "2  2.00 €             Koeriwerk A7      61014 [koeri]werk  Verkauf   \n",
       "3  1.30 €             Koeriwerk A7      61014 [koeri]werk  Verkauf   \n",
       "4  1.64 €             Koeriwerk A7      61014 [koeri]werk  Verkauf   \n",
       "\n",
       "          Bon-Nr. Bonus   Betrag            PDF  \n",
       "0  61012-3903-808        -1.35 €   PDF anzeigen  \n",
       "1  61012-3903-808        -1.35 €   PDF anzeigen  \n",
       "2  61014-3508-602        -4.94 €   PDF anzeigen  \n",
       "3  61014-3508-602        -4.94 €   PDF anzeigen  \n",
       "4  61014-3508-602        -4.94 €   PDF anzeigen  "
      ]
     },
     "execution_count": 45,
     "metadata": {},
     "output_type": "execute_result"
    }
   ],
   "source": [
    "df.head(5)"
   ]
  }
 ],
 "metadata": {
  "interpreter": {
   "hash": "7a862a13b35dbac2e51b8ddb35bec28b279ff8fc1fc5f914f468fce7c1ea1b96"
  },
  "kernelspec": {
   "display_name": "Python 3.9.7 ('base')",
   "language": "python",
   "name": "python3"
  },
  "language_info": {
   "codemirror_mode": {
    "name": "ipython",
    "version": 3
   },
   "file_extension": ".py",
   "mimetype": "text/x-python",
   "name": "python",
   "nbconvert_exporter": "python",
   "pygments_lexer": "ipython3",
   "version": "3.9.7"
  },
  "orig_nbformat": 4
 },
 "nbformat": 4,
 "nbformat_minor": 2
}
